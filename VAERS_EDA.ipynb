{
 "cells": [
  {
   "cell_type": "code",
   "execution_count": 2,
   "id": "widespread-penguin",
   "metadata": {},
   "outputs": [],
   "source": [
    "import pandas as pd\n",
    "\n",
    "import glob"
   ]
  },
  {
   "cell_type": "code",
   "execution_count": 21,
   "id": "sharp-portable",
   "metadata": {},
   "outputs": [],
   "source": [
    "import matplotlib.pyplot as plt"
   ]
  },
  {
   "cell_type": "code",
   "execution_count": 18,
   "id": "painful-merit",
   "metadata": {},
   "outputs": [],
   "source": [
    "%matplotlib inline"
   ]
  },
  {
   "cell_type": "code",
   "execution_count": 1,
   "id": "chicken-brass",
   "metadata": {},
   "outputs": [],
   "source": [
    "%config Completer.use_jedi = False"
   ]
  },
  {
   "cell_type": "markdown",
   "id": "christian-johnson",
   "metadata": {},
   "source": [
    "## Load the data\n",
    "Download the data from here https://vaers.hhs.gov/data/datasets.html\n",
    "And extract to Data Folder.\n"
   ]
  },
  {
   "cell_type": "markdown",
   "id": "average-method",
   "metadata": {},
   "source": [
    "The data contains 3 kinds of CSV files:\n",
    "- `YYYY`VAERSDATA Eg. 1990VAERSDATA.csv\n",
    "- `YYYY`VAERSSYMPTOMS Eg. 1990VAERSSYMPTOMS.csv\n",
    "- `YYYY`VAERSVAX Eg. 1990VAERSVAX.csv\n"
   ]
  },
  {
   "cell_type": "code",
   "execution_count": 3,
   "id": "guilty-priority",
   "metadata": {},
   "outputs": [
    {
     "name": "stderr",
     "output_type": "stream",
     "text": [
      "/home/xion/.conda/envs/torchenv/lib/python3.8/site-packages/IPython/core/interactiveshell.py:3357: DtypeWarning: Columns (7,9,10,12,15,16,23,31) have mixed types.Specify dtype option on import or set low_memory=False.\n",
      "  if (await self.run_code(code, result,  async_=asy)):\n",
      "/home/xion/.conda/envs/torchenv/lib/python3.8/site-packages/IPython/core/interactiveshell.py:3357: DtypeWarning: Columns (7,12,23) have mixed types.Specify dtype option on import or set low_memory=False.\n",
      "  if (await self.run_code(code, result,  async_=asy)):\n"
     ]
    },
    {
     "data": {
      "text/plain": [
       "(486862, 34)"
      ]
     },
     "execution_count": 3,
     "metadata": {},
     "output_type": "execute_result"
    }
   ],
   "source": [
    "data_df = pd.concat([pd.read_csv(f) for f in glob.glob('../Data/AllVAERSDataCSVS/202*VAERSDATA.csv')], \n",
    "                    join='outer').set_index('VAERS_ID')\n",
    "\n",
    "data_df.shape"
   ]
  },
  {
   "cell_type": "code",
   "execution_count": 41,
   "id": "democratic-denmark",
   "metadata": {},
   "outputs": [
    {
     "data": {
      "text/html": [
       "<div>\n",
       "<style scoped>\n",
       "    .dataframe tbody tr th:only-of-type {\n",
       "        vertical-align: middle;\n",
       "    }\n",
       "\n",
       "    .dataframe tbody tr th {\n",
       "        vertical-align: top;\n",
       "    }\n",
       "\n",
       "    .dataframe thead th {\n",
       "        text-align: right;\n",
       "    }\n",
       "</style>\n",
       "<table border=\"1\" class=\"dataframe\">\n",
       "  <thead>\n",
       "    <tr style=\"text-align: right;\">\n",
       "      <th></th>\n",
       "      <th>RECVDATE</th>\n",
       "      <th>STATE</th>\n",
       "      <th>AGE_YRS</th>\n",
       "      <th>CAGE_YR</th>\n",
       "      <th>CAGE_MO</th>\n",
       "      <th>SEX</th>\n",
       "      <th>RPT_DATE</th>\n",
       "      <th>SYMPTOM_TEXT</th>\n",
       "      <th>DIED</th>\n",
       "      <th>DATEDIED</th>\n",
       "      <th>...</th>\n",
       "      <th>CUR_ILL</th>\n",
       "      <th>HISTORY</th>\n",
       "      <th>PRIOR_VAX</th>\n",
       "      <th>SPLTTYPE</th>\n",
       "      <th>FORM_VERS</th>\n",
       "      <th>TODAYS_DATE</th>\n",
       "      <th>BIRTH_DEFECT</th>\n",
       "      <th>OFC_VISIT</th>\n",
       "      <th>ER_ED_VISIT</th>\n",
       "      <th>ALLERGIES</th>\n",
       "    </tr>\n",
       "    <tr>\n",
       "      <th>VAERS_ID</th>\n",
       "      <th></th>\n",
       "      <th></th>\n",
       "      <th></th>\n",
       "      <th></th>\n",
       "      <th></th>\n",
       "      <th></th>\n",
       "      <th></th>\n",
       "      <th></th>\n",
       "      <th></th>\n",
       "      <th></th>\n",
       "      <th></th>\n",
       "      <th></th>\n",
       "      <th></th>\n",
       "      <th></th>\n",
       "      <th></th>\n",
       "      <th></th>\n",
       "      <th></th>\n",
       "      <th></th>\n",
       "      <th></th>\n",
       "      <th></th>\n",
       "      <th></th>\n",
       "    </tr>\n",
       "  </thead>\n",
       "  <tbody>\n",
       "    <tr>\n",
       "      <th>1195792</th>\n",
       "      <td>04/12/2021</td>\n",
       "      <td>FL</td>\n",
       "      <td>41.0</td>\n",
       "      <td>41.0</td>\n",
       "      <td>NaN</td>\n",
       "      <td>M</td>\n",
       "      <td>NaN</td>\n",
       "      <td>Systemic: Dizziness / Lightheadness-Mild, Syst...</td>\n",
       "      <td>NaN</td>\n",
       "      <td>NaN</td>\n",
       "      <td>...</td>\n",
       "      <td>NaN</td>\n",
       "      <td>NaN</td>\n",
       "      <td>NaN</td>\n",
       "      <td>NaN</td>\n",
       "      <td>2</td>\n",
       "      <td>04/12/2021</td>\n",
       "      <td>NaN</td>\n",
       "      <td>NaN</td>\n",
       "      <td>NaN</td>\n",
       "      <td>NaN</td>\n",
       "    </tr>\n",
       "    <tr>\n",
       "      <th>1147948</th>\n",
       "      <td>03/30/2021</td>\n",
       "      <td>KY</td>\n",
       "      <td>86.0</td>\n",
       "      <td>86.0</td>\n",
       "      <td>NaN</td>\n",
       "      <td>F</td>\n",
       "      <td>NaN</td>\n",
       "      <td>Received Vaccine 1/20/21 1/21/2021 Morning: Nu...</td>\n",
       "      <td>Y</td>\n",
       "      <td>01/21/2021</td>\n",
       "      <td>...</td>\n",
       "      <td>Recent history of Fall - 1/17/2021 and 12/28/2...</td>\n",
       "      <td>NaN</td>\n",
       "      <td>NaN</td>\n",
       "      <td>NaN</td>\n",
       "      <td>2</td>\n",
       "      <td>03/30/2021</td>\n",
       "      <td>NaN</td>\n",
       "      <td>NaN</td>\n",
       "      <td>NaN</td>\n",
       "      <td>NaN</td>\n",
       "    </tr>\n",
       "    <tr>\n",
       "      <th>959479</th>\n",
       "      <td>01/20/2021</td>\n",
       "      <td>SC</td>\n",
       "      <td>38.0</td>\n",
       "      <td>38.0</td>\n",
       "      <td>NaN</td>\n",
       "      <td>F</td>\n",
       "      <td>NaN</td>\n",
       "      <td>general fatigue (sleepiness), muscle aches, he...</td>\n",
       "      <td>NaN</td>\n",
       "      <td>NaN</td>\n",
       "      <td>...</td>\n",
       "      <td>none - except adverse event symptoms from Pfiz...</td>\n",
       "      <td>none</td>\n",
       "      <td>Pfizer Dose 1  Dec 2020</td>\n",
       "      <td>vsafe</td>\n",
       "      <td>2</td>\n",
       "      <td>01/20/2021</td>\n",
       "      <td>NaN</td>\n",
       "      <td>NaN</td>\n",
       "      <td>NaN</td>\n",
       "      <td>Rashes - Levaquin</td>\n",
       "    </tr>\n",
       "    <tr>\n",
       "      <th>1359251</th>\n",
       "      <td>05/28/2021</td>\n",
       "      <td>WA</td>\n",
       "      <td>54.0</td>\n",
       "      <td>54.0</td>\n",
       "      <td>NaN</td>\n",
       "      <td>M</td>\n",
       "      <td>NaN</td>\n",
       "      <td>Acute pericarditis.</td>\n",
       "      <td>NaN</td>\n",
       "      <td>NaN</td>\n",
       "      <td>...</td>\n",
       "      <td>None</td>\n",
       "      <td>None</td>\n",
       "      <td>NaN</td>\n",
       "      <td>NaN</td>\n",
       "      <td>2</td>\n",
       "      <td>05/28/2021</td>\n",
       "      <td>NaN</td>\n",
       "      <td>NaN</td>\n",
       "      <td>NaN</td>\n",
       "      <td>None</td>\n",
       "    </tr>\n",
       "    <tr>\n",
       "      <th>1226219</th>\n",
       "      <td>04/18/2021</td>\n",
       "      <td>CO</td>\n",
       "      <td>64.0</td>\n",
       "      <td>64.0</td>\n",
       "      <td>NaN</td>\n",
       "      <td>F</td>\n",
       "      <td>NaN</td>\n",
       "      <td>A rather large bruise/clot developed on the th...</td>\n",
       "      <td>NaN</td>\n",
       "      <td>NaN</td>\n",
       "      <td>...</td>\n",
       "      <td>None</td>\n",
       "      <td>Stroke, Brest Cancer, Epilepsy</td>\n",
       "      <td>NaN</td>\n",
       "      <td>NaN</td>\n",
       "      <td>2</td>\n",
       "      <td>04/18/2021</td>\n",
       "      <td>NaN</td>\n",
       "      <td>Y</td>\n",
       "      <td>Y</td>\n",
       "      <td>None</td>\n",
       "    </tr>\n",
       "  </tbody>\n",
       "</table>\n",
       "<p>5 rows × 34 columns</p>\n",
       "</div>"
      ],
      "text/plain": [
       "            RECVDATE STATE  AGE_YRS  CAGE_YR  CAGE_MO SEX RPT_DATE  \\\n",
       "VAERS_ID                                                             \n",
       "1195792   04/12/2021    FL     41.0     41.0      NaN   M      NaN   \n",
       "1147948   03/30/2021    KY     86.0     86.0      NaN   F      NaN   \n",
       "959479    01/20/2021    SC     38.0     38.0      NaN   F      NaN   \n",
       "1359251   05/28/2021    WA     54.0     54.0      NaN   M      NaN   \n",
       "1226219   04/18/2021    CO     64.0     64.0      NaN   F      NaN   \n",
       "\n",
       "                                               SYMPTOM_TEXT DIED    DATEDIED  \\\n",
       "VAERS_ID                                                                       \n",
       "1195792   Systemic: Dizziness / Lightheadness-Mild, Syst...  NaN         NaN   \n",
       "1147948   Received Vaccine 1/20/21 1/21/2021 Morning: Nu...    Y  01/21/2021   \n",
       "959479    general fatigue (sleepiness), muscle aches, he...  NaN         NaN   \n",
       "1359251                                 Acute pericarditis.  NaN         NaN   \n",
       "1226219   A rather large bruise/clot developed on the th...  NaN         NaN   \n",
       "\n",
       "          ...                                            CUR_ILL  \\\n",
       "VAERS_ID  ...                                                      \n",
       "1195792   ...                                                NaN   \n",
       "1147948   ...  Recent history of Fall - 1/17/2021 and 12/28/2...   \n",
       "959479    ...  none - except adverse event symptoms from Pfiz...   \n",
       "1359251   ...                                               None   \n",
       "1226219   ...                                               None   \n",
       "\n",
       "                                 HISTORY                PRIOR_VAX  SPLTTYPE  \\\n",
       "VAERS_ID                                                                      \n",
       "1195792                              NaN                      NaN       NaN   \n",
       "1147948                              NaN                      NaN       NaN   \n",
       "959479                              none  Pfizer Dose 1  Dec 2020     vsafe   \n",
       "1359251                             None                      NaN       NaN   \n",
       "1226219   Stroke, Brest Cancer, Epilepsy                      NaN       NaN   \n",
       "\n",
       "         FORM_VERS TODAYS_DATE BIRTH_DEFECT OFC_VISIT ER_ED_VISIT  \\\n",
       "VAERS_ID                                                            \n",
       "1195792          2  04/12/2021          NaN       NaN         NaN   \n",
       "1147948          2  03/30/2021          NaN       NaN         NaN   \n",
       "959479           2  01/20/2021          NaN       NaN         NaN   \n",
       "1359251          2  05/28/2021          NaN       NaN         NaN   \n",
       "1226219          2  04/18/2021          NaN         Y           Y   \n",
       "\n",
       "                  ALLERGIES  \n",
       "VAERS_ID                     \n",
       "1195792                 NaN  \n",
       "1147948                 NaN  \n",
       "959479    Rashes - Levaquin  \n",
       "1359251                None  \n",
       "1226219                None  \n",
       "\n",
       "[5 rows x 34 columns]"
      ]
     },
     "execution_count": 41,
     "metadata": {},
     "output_type": "execute_result"
    }
   ],
   "source": [
    "data_df.sample(5)"
   ]
  },
  {
   "cell_type": "code",
   "execution_count": 4,
   "id": "crude-colors",
   "metadata": {},
   "outputs": [
    {
     "data": {
      "text/plain": [
       "Index(['RECVDATE', 'STATE', 'AGE_YRS', 'CAGE_YR', 'CAGE_MO', 'SEX', 'RPT_DATE',\n",
       "       'SYMPTOM_TEXT', 'DIED', 'DATEDIED', 'L_THREAT', 'ER_VISIT', 'HOSPITAL',\n",
       "       'HOSPDAYS', 'X_STAY', 'DISABLE', 'RECOVD', 'VAX_DATE', 'ONSET_DATE',\n",
       "       'NUMDAYS', 'LAB_DATA', 'V_ADMINBY', 'V_FUNDBY', 'OTHER_MEDS', 'CUR_ILL',\n",
       "       'HISTORY', 'PRIOR_VAX', 'SPLTTYPE', 'FORM_VERS', 'TODAYS_DATE',\n",
       "       'BIRTH_DEFECT', 'OFC_VISIT', 'ER_ED_VISIT', 'ALLERGIES'],\n",
       "      dtype='object')"
      ]
     },
     "execution_count": 4,
     "metadata": {},
     "output_type": "execute_result"
    }
   ],
   "source": [
    "data_df.columns"
   ]
  },
  {
   "cell_type": "code",
   "execution_count": 5,
   "id": "opposite-joining",
   "metadata": {},
   "outputs": [],
   "source": [
    "symptoms_df = pd.concat([pd.read_csv(f) for f in glob.glob('../Data/AllVAERSDataCSVS/202*VAERSSYMPTOMS.csv')], \n",
    "                        join='outer').set_index('VAERS_ID')"
   ]
  },
  {
   "cell_type": "code",
   "execution_count": 6,
   "id": "familiar-consultancy",
   "metadata": {},
   "outputs": [
    {
     "data": {
      "text/plain": [
       "(648024, 10)"
      ]
     },
     "execution_count": 6,
     "metadata": {},
     "output_type": "execute_result"
    }
   ],
   "source": [
    "symptoms_df.shape"
   ]
  },
  {
   "cell_type": "code",
   "execution_count": 7,
   "id": "fifteen-object",
   "metadata": {},
   "outputs": [],
   "source": [
    "vax_df =  pd.concat([pd.read_csv(f) for f in glob.glob('../Data/AllVAERSDataCSVS/202*VAERSVAX.csv')], \n",
    "                        join='outer').set_index('VAERS_ID')"
   ]
  },
  {
   "cell_type": "code",
   "execution_count": 26,
   "id": "expired-african",
   "metadata": {},
   "outputs": [
    {
     "data": {
      "text/plain": [
       "Index(['VAX_TYPE', 'VAX_MANU', 'VAX_LOT', 'VAX_DOSE_SERIES', 'VAX_ROUTE',\n",
       "       'VAX_SITE', 'VAX_NAME'],\n",
       "      dtype='object')"
      ]
     },
     "execution_count": 26,
     "metadata": {},
     "output_type": "execute_result"
    }
   ],
   "source": [
    "vax_df.columns"
   ]
  },
  {
   "cell_type": "code",
   "execution_count": 8,
   "id": "federal-guatemala",
   "metadata": {},
   "outputs": [
    {
     "data": {
      "text/plain": [
       "array(['VARZOS', 'UNK', 'FLU3', 'FLUR4', 'FLU4', 'PPV', 'PNC13',\n",
       "       'DTAPIPV', 'HEP', 'FLUC4', 'HEPA', 'HPV9', 'FLUX', 'MNQ', 'DTAP',\n",
       "       'MMR', 'MMRV', 'MENB', 'VARCEL', 'RV1', 'RV5', 'TDAP', 'FLUN4',\n",
       "       'FLUA3', 'MEN', 'IPV', 'DTAPHEPBIP', 'HEPAB', 'DTAPIPVHIB', 'HPV4',\n",
       "       'HIBV', 'TYP', 'DTP', 'RAB', 'TD', 'PNC10', 'FLUN3', 'ANTH', 'YF',\n",
       "       'JEV1', 'ADEN_4_7', 'SMALL', 'HPVX', 'PNC', 'DT', 'TTOX', 'CHOL',\n",
       "       'FLUR3', 'RVX', 'HPV2', 'BCG', 'JEVX', 'DTOX', 'HBHEPB', 'FLUA4',\n",
       "       'RUB', 'FLUC3', 'MENHIB', 'COVID19', 'DF', 'FLUX(H1N1)', 'EBZR',\n",
       "       'OPV', 'FLU(H1N1)', 'MNQHIB'], dtype=object)"
      ]
     },
     "execution_count": 8,
     "metadata": {},
     "output_type": "execute_result"
    }
   ],
   "source": [
    "vax_df.VAX_TYPE.unique()"
   ]
  },
  {
   "cell_type": "code",
   "execution_count": 47,
   "id": "apparent-policy",
   "metadata": {},
   "outputs": [
    {
     "data": {
      "text/plain": [
       "<AxesSubplot:xlabel='VAX_TYPE'>"
      ]
     },
     "execution_count": 47,
     "metadata": {},
     "output_type": "execute_result"
    },
    {
     "data": {
      "image/png": "[encoded data removed]",
      "text/plain": [
       "<Figure size 1296x576 with 1 Axes>"
      ]
     },
     "metadata": {
      "needs_background": "light"
     },
     "output_type": "display_data"
    }
   ],
   "source": [
    "fig = plt.figure(figsize=(18,8))\n",
    "ax = fig.add_subplot(111)\n",
    "vax_df.groupby('VAX_TYPE').agg({'VAX_TYPE':'count'}).plot.bar(ax=ax)"
   ]
  },
  {
   "cell_type": "markdown",
   "id": "experienced-promise",
   "metadata": {},
   "source": [
    "### Observation: There's orders of magnitude more adverse event reports for covid vaccines than all other types of vaccines.\n",
    "\n",
    "If we stop here it would appear that covid vaccines are more likely to cause side effects than all other types of vaccines. But in reality all it proves is that people taking the covid vaccines are more likely to report any side effect. \n",
    "\n",
    "As it says on the VAERS website:\n",
    "\n",
    "> VAERS is a passive reporting system, meaning it relies on individuals to send in reports of their experiences. Anyone can submit a report to VAERS...\n",
    "\n",
    "Let's zoom in on the covid vaccines"
   ]
  },
  {
   "cell_type": "code",
   "execution_count": 25,
   "id": "functioning-bridge",
   "metadata": {},
   "outputs": [],
   "source": [
    "vax_df = vax_df[vax_df.VAX_TYPE=='COVID19']"
   ]
  },
  {
   "cell_type": "code",
   "execution_count": 30,
   "id": "naval-earthquake",
   "metadata": {},
   "outputs": [
    {
     "data": {
      "text/plain": [
       "(458222, 7)"
      ]
     },
     "execution_count": 30,
     "metadata": {},
     "output_type": "execute_result"
    }
   ],
   "source": [
    "vax_df.shape"
   ]
  },
  {
   "cell_type": "code",
   "execution_count": 33,
   "id": "shaped-profile",
   "metadata": {},
   "outputs": [
    {
     "data": {
      "text/plain": [
       "(648024, 10)"
      ]
     },
     "execution_count": 33,
     "metadata": {},
     "output_type": "execute_result"
    }
   ],
   "source": [
    "symptoms_df.shape"
   ]
  },
  {
   "cell_type": "code",
   "execution_count": 38,
   "id": "beautiful-calibration",
   "metadata": {},
   "outputs": [],
   "source": [
    "vax_df = vax_df.join(symptoms_df, how='inner').drop_duplicates()"
   ]
  },
  {
   "cell_type": "code",
   "execution_count": 39,
   "id": "potential-agriculture",
   "metadata": {},
   "outputs": [
    {
     "data": {
      "text/plain": [
       "(543262, 17)"
      ]
     },
     "execution_count": 39,
     "metadata": {},
     "output_type": "execute_result"
    }
   ],
   "source": [
    "vax_df.shape"
   ]
  },
  {
   "cell_type": "code",
   "execution_count": 43,
   "id": "integrated-memphis",
   "metadata": {},
   "outputs": [
    {
     "data": {
      "text/html": [
       "<div>\n",
       "<style scoped>\n",
       "    .dataframe tbody tr th:only-of-type {\n",
       "        vertical-align: middle;\n",
       "    }\n",
       "\n",
       "    .dataframe tbody tr th {\n",
       "        vertical-align: top;\n",
       "    }\n",
       "\n",
       "    .dataframe thead th {\n",
       "        text-align: right;\n",
       "    }\n",
       "</style>\n",
       "<table border=\"1\" class=\"dataframe\">\n",
       "  <thead>\n",
       "    <tr style=\"text-align: right;\">\n",
       "      <th></th>\n",
       "      <th>VAX_TYPE</th>\n",
       "      <th>VAX_MANU</th>\n",
       "      <th>VAX_LOT</th>\n",
       "      <th>VAX_DOSE_SERIES</th>\n",
       "      <th>VAX_ROUTE</th>\n",
       "      <th>VAX_SITE</th>\n",
       "      <th>VAX_NAME</th>\n",
       "      <th>SYMPTOM1</th>\n",
       "      <th>SYMPTOMVERSION1</th>\n",
       "      <th>SYMPTOM2</th>\n",
       "      <th>SYMPTOMVERSION2</th>\n",
       "      <th>SYMPTOM3</th>\n",
       "      <th>SYMPTOMVERSION3</th>\n",
       "      <th>SYMPTOM4</th>\n",
       "      <th>SYMPTOMVERSION4</th>\n",
       "      <th>SYMPTOM5</th>\n",
       "      <th>SYMPTOMVERSION5</th>\n",
       "    </tr>\n",
       "    <tr>\n",
       "      <th>VAERS_ID</th>\n",
       "      <th></th>\n",
       "      <th></th>\n",
       "      <th></th>\n",
       "      <th></th>\n",
       "      <th></th>\n",
       "      <th></th>\n",
       "      <th></th>\n",
       "      <th></th>\n",
       "      <th></th>\n",
       "      <th></th>\n",
       "      <th></th>\n",
       "      <th></th>\n",
       "      <th></th>\n",
       "      <th></th>\n",
       "      <th></th>\n",
       "      <th></th>\n",
       "      <th></th>\n",
       "    </tr>\n",
       "  </thead>\n",
       "  <tbody>\n",
       "    <tr>\n",
       "      <th>1226893</th>\n",
       "      <td>COVID19</td>\n",
       "      <td>JANSSEN</td>\n",
       "      <td>NaN</td>\n",
       "      <td>UNK</td>\n",
       "      <td>NaN</td>\n",
       "      <td>NaN</td>\n",
       "      <td>COVID19 (COVID19 (JANSSEN))</td>\n",
       "      <td>Chills</td>\n",
       "      <td>23.1</td>\n",
       "      <td>Decreased appetite</td>\n",
       "      <td>23.1</td>\n",
       "      <td>Fatigue</td>\n",
       "      <td>23.1</td>\n",
       "      <td>Headache</td>\n",
       "      <td>23.1</td>\n",
       "      <td>Injection site pain</td>\n",
       "      <td>23.1</td>\n",
       "    </tr>\n",
       "    <tr>\n",
       "      <th>1175761</th>\n",
       "      <td>COVID19</td>\n",
       "      <td>MODERNA</td>\n",
       "      <td>o32m2oa</td>\n",
       "      <td>1</td>\n",
       "      <td>IM</td>\n",
       "      <td>RA</td>\n",
       "      <td>COVID19 (COVID19 (MODERNA))</td>\n",
       "      <td>Dizziness</td>\n",
       "      <td>24.0</td>\n",
       "      <td>Pyrexia</td>\n",
       "      <td>24.0</td>\n",
       "      <td>Vertigo</td>\n",
       "      <td>24.0</td>\n",
       "      <td>NaN</td>\n",
       "      <td>NaN</td>\n",
       "      <td>NaN</td>\n",
       "      <td>NaN</td>\n",
       "    </tr>\n",
       "    <tr>\n",
       "      <th>1247921</th>\n",
       "      <td>COVID19</td>\n",
       "      <td>JANSSEN</td>\n",
       "      <td>1805022</td>\n",
       "      <td>1</td>\n",
       "      <td>IM</td>\n",
       "      <td>RA</td>\n",
       "      <td>COVID19 (COVID19 (JANSSEN))</td>\n",
       "      <td>Thrombosis</td>\n",
       "      <td>24.0</td>\n",
       "      <td>Unresponsive to stimuli</td>\n",
       "      <td>24.0</td>\n",
       "      <td>NaN</td>\n",
       "      <td>NaN</td>\n",
       "      <td>NaN</td>\n",
       "      <td>NaN</td>\n",
       "      <td>NaN</td>\n",
       "      <td>NaN</td>\n",
       "    </tr>\n",
       "    <tr>\n",
       "      <th>1102733</th>\n",
       "      <td>COVID19</td>\n",
       "      <td>PFIZER\\BIONTECH</td>\n",
       "      <td>Em9810</td>\n",
       "      <td>1</td>\n",
       "      <td>IM</td>\n",
       "      <td>RA</td>\n",
       "      <td>COVID19 (COVID19 (PFIZER-BIONTECH))</td>\n",
       "      <td>Muscle spasms</td>\n",
       "      <td>24.0</td>\n",
       "      <td>Pain in extremity</td>\n",
       "      <td>24.0</td>\n",
       "      <td>Peripheral swelling</td>\n",
       "      <td>24.0</td>\n",
       "      <td>Tachycardia</td>\n",
       "      <td>24.0</td>\n",
       "      <td>NaN</td>\n",
       "      <td>NaN</td>\n",
       "    </tr>\n",
       "    <tr>\n",
       "      <th>1164424</th>\n",
       "      <td>COVID19</td>\n",
       "      <td>MODERNA</td>\n",
       "      <td>031A21A</td>\n",
       "      <td>2</td>\n",
       "      <td>SYR</td>\n",
       "      <td>LA</td>\n",
       "      <td>COVID19 (COVID19 (MODERNA))</td>\n",
       "      <td>Pain</td>\n",
       "      <td>24.0</td>\n",
       "      <td>Pyrexia</td>\n",
       "      <td>24.0</td>\n",
       "      <td>NaN</td>\n",
       "      <td>NaN</td>\n",
       "      <td>NaN</td>\n",
       "      <td>NaN</td>\n",
       "      <td>NaN</td>\n",
       "      <td>NaN</td>\n",
       "    </tr>\n",
       "  </tbody>\n",
       "</table>\n",
       "</div>"
      ],
      "text/plain": [
       "         VAX_TYPE         VAX_MANU  VAX_LOT VAX_DOSE_SERIES VAX_ROUTE  \\\n",
       "VAERS_ID                                                                \n",
       "1226893   COVID19          JANSSEN      NaN             UNK       NaN   \n",
       "1175761   COVID19          MODERNA  o32m2oa               1        IM   \n",
       "1247921   COVID19          JANSSEN  1805022               1        IM   \n",
       "1102733   COVID19  PFIZER\\BIONTECH   Em9810               1        IM   \n",
       "1164424   COVID19          MODERNA  031A21A               2       SYR   \n",
       "\n",
       "         VAX_SITE                             VAX_NAME       SYMPTOM1  \\\n",
       "VAERS_ID                                                                \n",
       "1226893       NaN          COVID19 (COVID19 (JANSSEN))         Chills   \n",
       "1175761        RA          COVID19 (COVID19 (MODERNA))      Dizziness   \n",
       "1247921        RA          COVID19 (COVID19 (JANSSEN))     Thrombosis   \n",
       "1102733        RA  COVID19 (COVID19 (PFIZER-BIONTECH))  Muscle spasms   \n",
       "1164424        LA          COVID19 (COVID19 (MODERNA))           Pain   \n",
       "\n",
       "          SYMPTOMVERSION1                 SYMPTOM2  SYMPTOMVERSION2  \\\n",
       "VAERS_ID                                                              \n",
       "1226893              23.1       Decreased appetite             23.1   \n",
       "1175761              24.0                  Pyrexia             24.0   \n",
       "1247921              24.0  Unresponsive to stimuli             24.0   \n",
       "1102733              24.0        Pain in extremity             24.0   \n",
       "1164424              24.0                  Pyrexia             24.0   \n",
       "\n",
       "                     SYMPTOM3  SYMPTOMVERSION3     SYMPTOM4  SYMPTOMVERSION4  \\\n",
       "VAERS_ID                                                                       \n",
       "1226893               Fatigue             23.1     Headache             23.1   \n",
       "1175761               Vertigo             24.0          NaN              NaN   \n",
       "1247921                   NaN              NaN          NaN              NaN   \n",
       "1102733   Peripheral swelling             24.0  Tachycardia             24.0   \n",
       "1164424                   NaN              NaN          NaN              NaN   \n",
       "\n",
       "                     SYMPTOM5  SYMPTOMVERSION5  \n",
       "VAERS_ID                                        \n",
       "1226893   Injection site pain             23.1  \n",
       "1175761                   NaN              NaN  \n",
       "1247921                   NaN              NaN  \n",
       "1102733                   NaN              NaN  \n",
       "1164424                   NaN              NaN  "
      ]
     },
     "execution_count": 43,
     "metadata": {},
     "output_type": "execute_result"
    }
   ],
   "source": [
    "vax_df.sample(5)"
   ]
  },
  {
   "cell_type": "markdown",
   "id": "periodic-england",
   "metadata": {},
   "source": [
    "Now we have 540k cases with symptoms.\n"
   ]
  },
  {
   "cell_type": "code",
   "execution_count": 44,
   "id": "comprehensive-accounting",
   "metadata": {},
   "outputs": [],
   "source": [
    "data_df = vax_df.join(data_df, how='inner')"
   ]
  },
  {
   "cell_type": "code",
   "execution_count": 46,
   "id": "checked-treasure",
   "metadata": {},
   "outputs": [
    {
     "data": {
      "text/plain": [
       "array(['MODERNA', 'PFIZER\\\\BIONTECH', 'UNKNOWN MANUFACTURER', 'JANSSEN'],\n",
       "      dtype=object)"
      ]
     },
     "execution_count": 46,
     "metadata": {},
     "output_type": "execute_result"
    }
   ],
   "source": [
    "data_df['VAX_MANU'].unique()"
   ]
  },
  {
   "cell_type": "code",
   "execution_count": null,
   "id": "spiritual-henry",
   "metadata": {},
   "outputs": [],
   "source": [
    "fig = plt.figure(figsize=(18,8))\n",
    "ax = fig.add_subplot(111)\n",
    "data_df.groupby('VAX_MANU').count()"
   ]
  },
  {
   "cell_type": "code",
   "execution_count": 50,
   "id": "dedicated-tucson",
   "metadata": {},
   "outputs": [
    {
     "data": {
      "text/plain": [
       "VAX_MANU\n",
       "JANSSEN                  57068\n",
       "MODERNA                 238208\n",
       "PFIZER\\BIONTECH         246583\n",
       "UNKNOWN MANUFACTURER      1403\n",
       "Name: VAX_MANU, dtype: int64"
      ]
     },
     "execution_count": 50,
     "metadata": {},
     "output_type": "execute_result"
    }
   ],
   "source": [
    "data_df.groupby('VAX_MANU')['VAX_MANU'].count().plot.bar()"
   ]
  },
  {
   "cell_type": "code",
   "execution_count": null,
   "id": "upper-associate",
   "metadata": {},
   "outputs": [],
   "source": []
  }
 ],
 "metadata": {
  "kernelspec": {
   "display_name": "Python 3",
   "language": "python",
   "name": "python3"
  },
  "language_info": {
   "codemirror_mode": {
    "name": "ipython",
    "version": 3
   },
   "file_extension": ".py",
   "mimetype": "text/x-python",
   "name": "python",
   "nbconvert_exporter": "python",
   "pygments_lexer": "ipython3",
   "version": "3.8.8"
  }
 },
 "nbformat": 4,
 "nbformat_minor": 5
}
